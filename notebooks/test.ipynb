{
 "cells": [
  {
   "cell_type": "code",
   "execution_count": 1,
   "metadata": {},
   "outputs": [],
   "source": [
    "import re"
   ]
  },
  {
   "cell_type": "code",
   "execution_count": 2,
   "metadata": {},
   "outputs": [],
   "source": [
    "def validate_email_address(email) -> bool:\n",
    "    \"\"\"Perform some basic email address validation.\"\"\"\n",
    "    pattern = r\"^[a-zA-Z0-9._%+-]+@[a-zA-Z0-9.-]+\\.[a-zA-Z]{2,}$\"\n",
    "\n",
    "    # Check if the email matches the pattern\n",
    "    if re.match(pattern, email):\n",
    "        return True\n",
    "    return False"
   ]
  },
  {
   "cell_type": "code",
   "execution_count": 3,
   "metadata": {},
   "outputs": [
    {
     "name": "stdout",
     "output_type": "stream",
     "text": [
      "foor False\n",
      "bar@ False\n",
      "@bar.ctest.com False\n",
      "test@--.com True\n"
     ]
    }
   ],
   "source": [
    "for i in [\n",
    "    \"foor\",\n",
    "    \"bar@\",\n",
    "    \"@bar.c\"\n",
    "    \"test.com\",\n",
    "    \"test@--.com\",\n",
    "]:\n",
    "    print(i, validate_email_address(i))"
   ]
  },
  {
   "cell_type": "code",
   "execution_count": 7,
   "metadata": {},
   "outputs": [
    {
     "name": "stdout",
     "output_type": "stream",
     "text": [
      "foor@ukr.net True\n",
      "bar@1.com True\n",
      "te23@bar.co True\n",
      "test.com@nex.ua True\n",
      "test@tr.com True\n"
     ]
    }
   ],
   "source": [
    "for i in [\n",
    "    \"foor@ukr.net\",\n",
    "    \"bar@1.com\",\n",
    "    \"te23@bar.co\",\n",
    "    \"test.com@nex.ua\",\n",
    "    \"test@tr.com\",\n",
    "]:\n",
    "    print(i, validate_email_address(i))"
   ]
  }
 ],
 "metadata": {
  "kernelspec": {
   "display_name": ".venv",
   "language": "python",
   "name": "python3"
  },
  "language_info": {
   "codemirror_mode": {
    "name": "ipython",
    "version": 3
   },
   "file_extension": ".py",
   "mimetype": "text/x-python",
   "name": "python",
   "nbconvert_exporter": "python",
   "pygments_lexer": "ipython3",
   "version": "3.12.1"
  }
 },
 "nbformat": 4,
 "nbformat_minor": 2
}
