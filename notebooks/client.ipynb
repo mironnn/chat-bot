{
 "cells": [
  {
   "cell_type": "code",
   "execution_count": 59,
   "metadata": {},
   "outputs": [],
   "source": [
    "import uuid\n",
    "import requests\n",
    "from pprint import pprint"
   ]
  },
  {
   "cell_type": "code",
   "execution_count": 60,
   "metadata": {},
   "outputs": [],
   "source": [
    "session_id = str(uuid.uuid4())"
   ]
  },
  {
   "cell_type": "code",
   "execution_count": 61,
   "metadata": {},
   "outputs": [
    {
     "name": "stdout",
     "output_type": "stream",
     "text": [
      "{'callback_events': [],\n",
      " 'metadata': {'run_id': 'da2956de-6ffd-4f8e-ac63-46e5e00a70d1'},\n",
      " 'output': {'additional_kwargs': {},\n",
      "            'content': '\\n'\n",
      "                       \"Of course, Bob! I'll do my best to assist you. What do \"\n",
      "                       'you need help with today?',\n",
      "            'example': False,\n",
      "            'id': None,\n",
      "            'name': None,\n",
      "            'type': 'ai'}}\n"
     ]
    }
   ],
   "source": [
    "response = requests.post(\n",
    "    \"http://localhost:18000/invoke\",\n",
    "    json={\n",
    "        \"input\": {\"human_input\": \"my name is Bob. Could you please help me?\"},\n",
    "        \"config\": {\"configurable\": {\"session_id\": session_id}},\n",
    "    },\n",
    ")\n",
    "pprint(response.json())"
   ]
  },
  {
   "cell_type": "code",
   "execution_count": 62,
   "metadata": {},
   "outputs": [
    {
     "name": "stdout",
     "output_type": "stream",
     "text": [
      "{'callback_events': [],\n",
      " 'metadata': {'run_id': '2837d8fe-4279-4f2e-bbd8-344e5a2d65a7'},\n",
      " 'output': {'additional_kwargs': {},\n",
      "            'content': '\\nYour first name is Bob.',\n",
      "            'example': False,\n",
      "            'id': None,\n",
      "            'name': None,\n",
      "            'type': 'ai'}}\n"
     ]
    }
   ],
   "source": [
    "response = requests.post(\n",
    "    \"http://localhost:18000/invoke\",\n",
    "    json={\n",
    "        \"input\": {\n",
    "            \"human_input\": \"What is my first name?\"},\n",
    "        \"config\": {\"configurable\": {\"session_id\": session_id}},\n",
    "    },\n",
    ")\n",
    "pprint(response.json())"
   ]
  },
  {
   "cell_type": "code",
   "execution_count": 63,
   "metadata": {},
   "outputs": [
    {
     "name": "stdout",
     "output_type": "stream",
     "text": [
      "{'callback_events': [],\n",
      " 'metadata': {'run_id': '936f03d7-0a47-4f3e-bb2c-55a36058601d'},\n",
      " 'output': {'additional_kwargs': {},\n",
      "            'content': '\\n'\n",
      "                       \"I don't have access to your personal information or \"\n",
      "                       'accounts, so I cannot provide instructions on how to '\n",
      "                       'reset your password. However, I can suggest that you '\n",
      "                       \"check the website or application's password reset \"\n",
      "                       'process or contact the customer support team for '\n",
      "                       'assistance.',\n",
      "            'example': False,\n",
      "            'id': None,\n",
      "            'name': None,\n",
      "            'type': 'ai'}}\n"
     ]
    }
   ],
   "source": [
    "response = requests.post(\n",
    "    \"http://localhost:18000/invoke\",\n",
    "    json={\n",
    "        \"input\": {\"human_input\": \"How to reset password?\"},\n",
    "        \"config\": {\"configurable\": {\"session_id\": session_id}},\n",
    "    },\n",
    ")\n",
    "pprint(response.json())"
   ]
  },
  {
   "cell_type": "code",
   "execution_count": 64,
   "metadata": {},
   "outputs": [
    {
     "name": "stdout",
     "output_type": "stream",
     "text": [
      "{'callback_events': [],\n",
      " 'metadata': {'run_id': 'a8e6c28f-41c8-46e3-8898-7e06e8d1d344'},\n",
      " 'output': {'additional_kwargs': {},\n",
      "            'content': '\\n'\n",
      "                       \"I don't have access to personal information, so I'm \"\n",
      "                       \"unable to recall your first name. If you'd like to \"\n",
      "                       \"provide it to me, I'd be happy to assist you further!\",\n",
      "            'example': False,\n",
      "            'id': None,\n",
      "            'name': None,\n",
      "            'type': 'ai'}}\n"
     ]
    }
   ],
   "source": [
    "response = requests.post(\n",
    "    \"http://localhost:18000/invoke\",\n",
    "    json={\n",
    "        \"input\": {\"human_input\": \"how my first name again?\"},\n",
    "        \"config\": {\"configurable\": {\"session_id\": \"134-456\"}},\n",
    "    },\n",
    ")\n",
    "pprint(response.json())"
   ]
  }
 ],
 "metadata": {
  "kernelspec": {
   "display_name": ".venv",
   "language": "python",
   "name": "python3"
  },
  "language_info": {
   "codemirror_mode": {
    "name": "ipython",
    "version": 3
   },
   "file_extension": ".py",
   "mimetype": "text/x-python",
   "name": "python",
   "nbconvert_exporter": "python",
   "pygments_lexer": "ipython3",
   "version": "3.12.1"
  }
 },
 "nbformat": 4,
 "nbformat_minor": 2
}
