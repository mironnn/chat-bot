{
 "cells": [
  {
   "cell_type": "code",
   "execution_count": 65,
   "metadata": {},
   "outputs": [],
   "source": [
    "import uuid\n",
    "import requests\n",
    "from pprint import pprint"
   ]
  },
  {
   "cell_type": "code",
   "execution_count": 66,
   "metadata": {},
   "outputs": [],
   "source": [
    "session_id = str(uuid.uuid4())"
   ]
  },
  {
   "cell_type": "code",
   "execution_count": 67,
   "metadata": {},
   "outputs": [
    {
     "name": "stdout",
     "output_type": "stream",
     "text": [
      "{'callback_events': [],\n",
      " 'metadata': {'run_id': '8eef7ee4-0e69-4a10-9d20-b908bffd9323'},\n",
      " 'output': {'additional_kwargs': {},\n",
      "            'content': '\\n'\n",
      "                       \"Of course, Bob! I'll do my best to assist you. What do \"\n",
      "                       'you need help with today?',\n",
      "            'example': False,\n",
      "            'id': None,\n",
      "            'name': None,\n",
      "            'type': 'ai'}}\n"
     ]
    }
   ],
   "source": [
    "response = requests.post(\n",
    "    \"http://localhost:18000/invoke\",\n",
    "    json={\n",
    "        \"input\": {\"human_input\": \"my name is Bob. Could you please help me?\"},\n",
    "        \"config\": {\"configurable\": {\"session_id\": session_id}},\n",
    "    },\n",
    ")\n",
    "pprint(response.json())"
   ]
  },
  {
   "cell_type": "code",
   "execution_count": 68,
   "metadata": {},
   "outputs": [
    {
     "name": "stdout",
     "output_type": "stream",
     "text": [
      "{'callback_events': [],\n",
      " 'metadata': {'run_id': 'b1e051ef-542d-455d-9566-1ac409ba3003'},\n",
      " 'output': {'additional_kwargs': {},\n",
      "            'content': '\\nYour first name is Bob.',\n",
      "            'example': False,\n",
      "            'id': None,\n",
      "            'name': None,\n",
      "            'type': 'ai'}}\n"
     ]
    }
   ],
   "source": [
    "response = requests.post(\n",
    "    \"http://localhost:18000/invoke\",\n",
    "    json={\n",
    "        \"input\": {\n",
    "            \"human_input\": \"What is my first name?\"},\n",
    "        \"config\": {\"configurable\": {\"session_id\": session_id}},\n",
    "    },\n",
    ")\n",
    "pprint(response.json())"
   ]
  },
  {
   "cell_type": "code",
   "execution_count": 69,
   "metadata": {},
   "outputs": [
    {
     "name": "stdout",
     "output_type": "stream",
     "text": [
      "{'callback_events': [],\n",
      " 'metadata': {'run_id': '11d19175-f0ec-4875-91d3-b26de6e7b04b'},\n",
      " 'output': {'additional_kwargs': {},\n",
      "            'content': '\\n'\n",
      "                       \"I don't have access to your personal information or \"\n",
      "                       'accounts, so I cannot provide instructions on how to '\n",
      "                       'reset your password. However, I can suggest that you '\n",
      "                       'visit the website or application where you need to '\n",
      "                       'reset your password and look for the \"Forgot Password\" '\n",
      "                       'or \"Reset Password\" option. This should take you '\n",
      "                       \"through the steps to reset your password. If you're \"\n",
      "                       'still having trouble, you may want to contact the '\n",
      "                       'customer support team for assistance.',\n",
      "            'example': False,\n",
      "            'id': None,\n",
      "            'name': None,\n",
      "            'type': 'ai'}}\n"
     ]
    }
   ],
   "source": [
    "response = requests.post(\n",
    "    \"http://localhost:18000/invoke\",\n",
    "    json={\n",
    "        \"input\": {\"human_input\": \"How to reset password?\"},\n",
    "        \"config\": {\"configurable\": {\"session_id\": session_id}},\n",
    "    },\n",
    ")\n",
    "pprint(response.json())"
   ]
  },
  {
   "cell_type": "code",
   "execution_count": 70,
   "metadata": {},
   "outputs": [
    {
     "name": "stdout",
     "output_type": "stream",
     "text": [
      "{'callback_events': [],\n",
      " 'metadata': {'run_id': 'e0eefd33-3cea-4599-afce-2076c809b9ef'},\n",
      " 'output': {'additional_kwargs': {},\n",
      "            'content': '\\n'\n",
      "                       \"I don't have access to personal information, so I'm \"\n",
      "                       \"unable to recall your first name. If you'd like to \"\n",
      "                       \"provide it to me, I'd be happy to assist you further!\",\n",
      "            'example': False,\n",
      "            'id': None,\n",
      "            'name': None,\n",
      "            'type': 'ai'}}\n"
     ]
    }
   ],
   "source": [
    "response = requests.post(\n",
    "    \"http://localhost:18000/invoke\",\n",
    "    json={\n",
    "        \"input\": {\"human_input\": \"how my first name again?\"},\n",
    "        \"config\": {\"configurable\": {\"session_id\": \"134-456\"}},\n",
    "    },\n",
    ")\n",
    "pprint(response.json())"
   ]
  }
 ],
 "metadata": {
  "kernelspec": {
   "display_name": ".venv",
   "language": "python",
   "name": "python3"
  },
  "language_info": {
   "codemirror_mode": {
    "name": "ipython",
    "version": 3
   },
   "file_extension": ".py",
   "mimetype": "text/x-python",
   "name": "python",
   "nbconvert_exporter": "python",
   "pygments_lexer": "ipython3",
   "version": "3.12.1"
  }
 },
 "nbformat": 4,
 "nbformat_minor": 2
}
